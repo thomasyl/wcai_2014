{
 "metadata": {
  "name": "",
  "signature": "sha256:fa86f51b40869d9035a9b284eed341013a47053a74ddf1c47c07a55345f2277c"
 },
 "nbformat": 3,
 "nbformat_minor": 0,
 "worksheets": [
  {
   "cells": [
    {
     "cell_type": "code",
     "collapsed": false,
     "input": [
      "import os\n",
      "import re\n",
      "\n",
      "\"\"\"\n",
      "# used to process the DIY data from XL into a format for Gephi\n",
      "# [1] read each project into a single row\n",
      "# [2] print out each row as a comma separated list\n",
      "# [3] create the n-permutations of the list where you vary the first item on the list (pop and push it to the end of the list)\n",
      "# [3.1] for an iterator over the length of the list, append the iterator to the front of the list? No b/c then you have a \n",
      "# duplicate\n",
      "# [3.2] just push and pop - not the most efficient space-wise but it makes sense conceptually.\n",
      "\n",
      "# need to add an encoding in here somewhere so you xfm the words into numbers.\n",
      "\n",
      "\n",
      "Look at NetworkX for graph visualization\n",
      "Use Gephi for graph visualization?\n",
      "\"\"\"\n",
      "\n",
      "path = '/Users/tlee/WCAI'\n",
      "DIY_file = 'DIYforGephi_1.txt'\n",
      "\n",
      "\n",
      "\n",
      "\n"
     ],
     "language": "python",
     "metadata": {},
     "outputs": [],
     "prompt_number": 46
    },
    {
     "cell_type": "code",
     "collapsed": false,
     "input": [
      "\"\"\"\n",
      "permute_the_list\n",
      "input: a sequence of nodes\n",
      "output: TRUE\n",
      "side-effect: write out sub-lists to input_fh\n",
      "every sub-list is a permuted form of the_list\n",
      "\"\"\"\n",
      "def print_list(a_l):\n",
      "    line = str(a_l[0])\n",
      "    for a in a_l[1:]:\n",
      "        line = line + ',' + str(a)\n",
      "    # end for a\n",
      "    line = line + '\\n'\n",
      "    return line\n",
      "    \n",
      "def permute_list(a_l, output_fh):\n",
      "    for a in a_l[:]:\n",
      "        # print i\n",
      "        # print a_l\n",
      "        a_l = [a_l.pop()] + a_l\n",
      "        # print a_l\n",
      "        # print print_list(a_l)\n",
      "        output_fh.write(print_list(a_l))\n",
      "\n",
      "        "
     ],
     "language": "python",
     "metadata": {},
     "outputs": [],
     "prompt_number": 54
    },
    {
     "cell_type": "code",
     "collapsed": false,
     "input": [
      "# testing only\n",
      "list = [1,2,3,4]\n",
      "permute_list(list, '')"
     ],
     "language": "python",
     "metadata": {},
     "outputs": [
      {
       "output_type": "stream",
       "stream": "stdout",
       "text": [
        "4,1,2,3,\n",
        "\n",
        "3,4,1,2,\n",
        "\n",
        "2,3,4,1,\n",
        "\n",
        "1,2,3,4,\n",
        "\n"
       ]
      }
     ],
     "prompt_number": 37
    },
    {
     "cell_type": "code",
     "collapsed": false,
     "input": [
      "\"\"\"\n",
      "from the input file, read in and transpose to a list\n",
      "\"\"\"\n",
      "def parse_DIY(in_fh, out_fh):\n",
      "\n",
      "    data = in_fh.read()\n",
      "    # need this hack b/c of the way that I imported from MS Excel.\n",
      "    # the line feed \\r character is not recognized as a line so all the data rows are read in\n",
      "    # as a single text line.\n",
      "\n",
      "    lines = data.split('\\r')\n",
      "    counter = 1\n",
      "    prev = ''\n",
      "    a_li = []\n",
      "    for line in lines:\n",
      "        # if counter > 20: break\n",
      "        counter = counter + 1\n",
      "        (line_no, proj, item) = line.split('\\t')\n",
      "        item=item.strip()\n",
      "        # if same as the last one\n",
      "        if proj == prev: \n",
      "            a_li.append(item)\n",
      "        # new one\n",
      "        else: \n",
      "            # update value of prev\n",
      "            prev = proj\n",
      "            # if a_li: print a_li # this is the old one\n",
      "            if a_li: permute_list(a_li, out_fh) # if the list is not empty, print it.\n",
      "            # start a new one\n",
      "            a_li = [item]\n",
      "    # end for line in lines\n",
      "    \n",
      "    # debug only\n",
      "    print a_li\n",
      "\n",
      "# end parse_DIY"
     ],
     "language": "python",
     "metadata": {},
     "outputs": [],
     "prompt_number": 116
    },
    {
     "cell_type": "code",
     "collapsed": false,
     "input": [
      "# testing only\n",
      "input_fp = path\n",
      "input_fn = DIY_file\n",
      "input_fh = open(input_fp + '/' + input_fn, 'r')\n",
      "parse_DIY(input_fh)"
     ],
     "language": "python",
     "metadata": {},
     "outputs": [
      {
       "ename": "TypeError",
       "evalue": "parse_DIY() takes exactly 2 arguments (1 given)",
       "output_type": "pyerr",
       "traceback": [
        "\u001b[0;31m---------------------------------------------------------------------------\u001b[0m\n\u001b[0;31mTypeError\u001b[0m                                 Traceback (most recent call last)",
        "\u001b[0;32m<ipython-input-93-cf154f231060>\u001b[0m in \u001b[0;36m<module>\u001b[0;34m()\u001b[0m\n\u001b[1;32m      3\u001b[0m \u001b[0minput_fn\u001b[0m \u001b[0;34m=\u001b[0m \u001b[0mDIY_file\u001b[0m\u001b[0;34m\u001b[0m\u001b[0m\n\u001b[1;32m      4\u001b[0m \u001b[0minput_fh\u001b[0m \u001b[0;34m=\u001b[0m \u001b[0mopen\u001b[0m\u001b[0;34m(\u001b[0m\u001b[0minput_fp\u001b[0m \u001b[0;34m+\u001b[0m \u001b[0;34m'/'\u001b[0m \u001b[0;34m+\u001b[0m \u001b[0minput_fn\u001b[0m\u001b[0;34m,\u001b[0m \u001b[0;34m'r'\u001b[0m\u001b[0;34m)\u001b[0m\u001b[0;34m\u001b[0m\u001b[0m\n\u001b[0;32m----> 5\u001b[0;31m \u001b[0mparse_DIY\u001b[0m\u001b[0;34m(\u001b[0m\u001b[0minput_fh\u001b[0m\u001b[0;34m)\u001b[0m\u001b[0;34m\u001b[0m\u001b[0m\n\u001b[0m",
        "\u001b[0;31mTypeError\u001b[0m: parse_DIY() takes exactly 2 arguments (1 given)"
       ]
      }
     ],
     "prompt_number": 93
    },
    {
     "cell_type": "heading",
     "level": 1,
     "metadata": {},
     "source": [
      "OPEN AND CLOSE FILES _ RUNNING CODE"
     ]
    },
    {
     "cell_type": "code",
     "collapsed": false,
     "input": [
      "def main():\n",
      "    input_fp = path\n",
      "    input_fn = DIY_file\n",
      "    input_fh = open(input_fp + '/' + input_fn, 'r')\n",
      "    output_fn = 'DIY_Gephi_1.csv'\n",
      "    output_fh = open(input_fp + '/' + output_fn, 'w')\n",
      "    \n",
      "    # list = [1,2,3,4]\n",
      "    # permute_list(list, output_fh)\n",
      "    parse_DIY(input_fh, output_fh)\n",
      "    input_fh.close()\n",
      "    output_fh.close()"
     ],
     "language": "python",
     "metadata": {},
     "outputs": [],
     "prompt_number": 117
    },
    {
     "cell_type": "code",
     "collapsed": false,
     "input": [
      "main()"
     ],
     "language": "python",
     "metadata": {},
     "outputs": [
      {
       "ename": "ValueError",
       "evalue": "need more than 1 value to unpack",
       "output_type": "pyerr",
       "traceback": [
        "\u001b[0;31m---------------------------------------------------------------------------\u001b[0m\n\u001b[0;31mValueError\u001b[0m                                Traceback (most recent call last)",
        "\u001b[0;32m<ipython-input-118-58ca95c5b364>\u001b[0m in \u001b[0;36m<module>\u001b[0;34m()\u001b[0m\n\u001b[0;32m----> 1\u001b[0;31m \u001b[0mmain\u001b[0m\u001b[0;34m(\u001b[0m\u001b[0;34m)\u001b[0m\u001b[0;34m\u001b[0m\u001b[0m\n\u001b[0m",
        "\u001b[0;32m<ipython-input-117-58cd7af09688>\u001b[0m in \u001b[0;36mmain\u001b[0;34m()\u001b[0m\n\u001b[1;32m      8\u001b[0m     \u001b[0;31m# list = [1,2,3,4]\u001b[0m\u001b[0;34m\u001b[0m\u001b[0;34m\u001b[0m\u001b[0m\n\u001b[1;32m      9\u001b[0m     \u001b[0;31m# permute_list(list, output_fh)\u001b[0m\u001b[0;34m\u001b[0m\u001b[0;34m\u001b[0m\u001b[0m\n\u001b[0;32m---> 10\u001b[0;31m     \u001b[0mparse_DIY\u001b[0m\u001b[0;34m(\u001b[0m\u001b[0minput_fh\u001b[0m\u001b[0;34m,\u001b[0m \u001b[0moutput_fh\u001b[0m\u001b[0;34m)\u001b[0m\u001b[0;34m\u001b[0m\u001b[0m\n\u001b[0m\u001b[1;32m     11\u001b[0m     \u001b[0minput_fh\u001b[0m\u001b[0;34m.\u001b[0m\u001b[0mclose\u001b[0m\u001b[0;34m(\u001b[0m\u001b[0;34m)\u001b[0m\u001b[0;34m\u001b[0m\u001b[0m\n\u001b[1;32m     12\u001b[0m     \u001b[0moutput_fh\u001b[0m\u001b[0;34m.\u001b[0m\u001b[0mclose\u001b[0m\u001b[0;34m(\u001b[0m\u001b[0;34m)\u001b[0m\u001b[0;34m\u001b[0m\u001b[0m\n",
        "\u001b[0;32m<ipython-input-116-91ffe096f422>\u001b[0m in \u001b[0;36mparse_DIY\u001b[0;34m(in_fh, out_fh)\u001b[0m\n\u001b[1;32m     16\u001b[0m         \u001b[0;31m# if counter > 20: break\u001b[0m\u001b[0;34m\u001b[0m\u001b[0;34m\u001b[0m\u001b[0m\n\u001b[1;32m     17\u001b[0m         \u001b[0mcounter\u001b[0m \u001b[0;34m=\u001b[0m \u001b[0mcounter\u001b[0m \u001b[0;34m+\u001b[0m \u001b[0;36m1\u001b[0m\u001b[0;34m\u001b[0m\u001b[0m\n\u001b[0;32m---> 18\u001b[0;31m         \u001b[0;34m(\u001b[0m\u001b[0mline_no\u001b[0m\u001b[0;34m,\u001b[0m \u001b[0mproj\u001b[0m\u001b[0;34m,\u001b[0m \u001b[0mitem\u001b[0m\u001b[0;34m)\u001b[0m \u001b[0;34m=\u001b[0m \u001b[0mline\u001b[0m\u001b[0;34m.\u001b[0m\u001b[0msplit\u001b[0m\u001b[0;34m(\u001b[0m\u001b[0;34m'\\t'\u001b[0m\u001b[0;34m)\u001b[0m\u001b[0;34m\u001b[0m\u001b[0m\n\u001b[0m\u001b[1;32m     19\u001b[0m         \u001b[0mitem\u001b[0m\u001b[0;34m=\u001b[0m\u001b[0mitem\u001b[0m\u001b[0;34m.\u001b[0m\u001b[0mstrip\u001b[0m\u001b[0;34m(\u001b[0m\u001b[0;34m)\u001b[0m\u001b[0;34m\u001b[0m\u001b[0m\n\u001b[1;32m     20\u001b[0m         \u001b[0;31m# if same as the last one\u001b[0m\u001b[0;34m\u001b[0m\u001b[0;34m\u001b[0m\u001b[0m\n",
        "\u001b[0;31mValueError\u001b[0m: need more than 1 value to unpack"
       ]
      }
     ],
     "prompt_number": 118
    },
    {
     "cell_type": "code",
     "collapsed": false,
     "input": [],
     "language": "python",
     "metadata": {},
     "outputs": []
    }
   ],
   "metadata": {}
  }
 ]
}